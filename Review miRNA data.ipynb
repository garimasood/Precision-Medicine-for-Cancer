{
 "cells": [
  {
   "cell_type": "code",
   "execution_count": 155,
   "metadata": {},
   "outputs": [],
   "source": [
    "import pandas as pd\n",
    "\n",
    "datapath =\"C:/Users/garim/Documents/Capstone/Full data/TCGA extracted/TmiRNA_TCGA.csv\"\n",
    "tmirna = pd.read_csv(datapath)"
   ]
  },
  {
   "cell_type": "code",
   "execution_count": 156,
   "metadata": {},
   "outputs": [],
   "source": [
    "tmirna =tmirna.rename(columns = {'sample':'samples'})"
   ]
  },
  {
   "cell_type": "code",
   "execution_count": 157,
   "metadata": {},
   "outputs": [
    {
     "data": {
      "text/plain": [
       "array(['Primary Blood Derived Cancer - Peripheral Blood',\n",
       "       'Primary Solid Tumor', 'Solid Tissue Normal',\n",
       "       'Additional - New Primary', 'Metastatic', 'Recurrent Solid Tumor',\n",
       "       'Additional Metastatic'], dtype=object)"
      ]
     },
     "execution_count": 157,
     "metadata": {},
     "output_type": "execute_result"
    }
   ],
   "source": [
    "tmirna.samples.unique()"
   ]
  },
  {
   "cell_type": "markdown",
   "metadata": {},
   "source": [
    "Check if any of the TSS or sample mappings resulted in NaNs"
   ]
  },
  {
   "cell_type": "code",
   "execution_count": 158,
   "metadata": {
    "scrolled": true
   },
   "outputs": [
    {
     "data": {
      "text/html": [
       "<div>\n",
       "<style scoped>\n",
       "    .dataframe tbody tr th:only-of-type {\n",
       "        vertical-align: middle;\n",
       "    }\n",
       "\n",
       "    .dataframe tbody tr th {\n",
       "        vertical-align: top;\n",
       "    }\n",
       "\n",
       "    .dataframe thead th {\n",
       "        text-align: right;\n",
       "    }\n",
       "</style>\n",
       "<table border=\"1\" class=\"dataframe\">\n",
       "  <thead>\n",
       "    <tr style=\"text-align: right;\">\n",
       "      <th></th>\n",
       "      <th>Unnamed: 0</th>\n",
       "      <th>index</th>\n",
       "      <th>hsa-let-7a-1</th>\n",
       "      <th>hsa-let-7a-2</th>\n",
       "      <th>hsa-let-7a-3</th>\n",
       "      <th>hsa-let-7b</th>\n",
       "      <th>hsa-let-7c</th>\n",
       "      <th>hsa-let-7d</th>\n",
       "      <th>hsa-let-7e</th>\n",
       "      <th>hsa-let-7f-1</th>\n",
       "      <th>...</th>\n",
       "      <th>study</th>\n",
       "      <th>tssC</th>\n",
       "      <th>participant</th>\n",
       "      <th>portion_analyte</th>\n",
       "      <th>plate</th>\n",
       "      <th>center</th>\n",
       "      <th>sampleC</th>\n",
       "      <th>vial</th>\n",
       "      <th>TissueSourceSite</th>\n",
       "      <th>samples</th>\n",
       "    </tr>\n",
       "  </thead>\n",
       "  <tbody>\n",
       "  </tbody>\n",
       "</table>\n",
       "<p>0 rows × 1893 columns</p>\n",
       "</div>"
      ],
      "text/plain": [
       "Empty DataFrame\n",
       "Columns: [Unnamed: 0, index, hsa-let-7a-1, hsa-let-7a-2, hsa-let-7a-3, hsa-let-7b, hsa-let-7c, hsa-let-7d, hsa-let-7e, hsa-let-7f-1, hsa-let-7f-2, hsa-let-7g, hsa-let-7i, hsa-mir-1-1, hsa-mir-1-2, hsa-mir-100, hsa-mir-101-1, hsa-mir-101-2, hsa-mir-103a-1, hsa-mir-103a-2, hsa-mir-103b-1, hsa-mir-103b-2, hsa-mir-105-1, hsa-mir-105-2, hsa-mir-106a, hsa-mir-106b, hsa-mir-107, hsa-mir-10a, hsa-mir-10b, hsa-mir-1178, hsa-mir-1179, hsa-mir-1180, hsa-mir-1181, hsa-mir-1182, hsa-mir-1183, hsa-mir-1184-1, hsa-mir-1184-2, hsa-mir-1184-3, hsa-mir-1185-1, hsa-mir-1185-2, hsa-mir-1193, hsa-mir-1197, hsa-mir-1199, hsa-mir-1200, hsa-mir-1202, hsa-mir-1203, hsa-mir-1204, hsa-mir-1205, hsa-mir-1206, hsa-mir-1207, hsa-mir-1208, hsa-mir-122, hsa-mir-1224, hsa-mir-1225, hsa-mir-1226, hsa-mir-1227, hsa-mir-1228, hsa-mir-1229, hsa-mir-1231, hsa-mir-1233-1, hsa-mir-1233-2, hsa-mir-1234, hsa-mir-1236, hsa-mir-1237, hsa-mir-1238, hsa-mir-124-1, hsa-mir-124-2, hsa-mir-124-3, hsa-mir-1243, hsa-mir-1244-1, hsa-mir-1244-2, hsa-mir-1244-3, hsa-mir-1244-4, hsa-mir-1245a, hsa-mir-1245b, hsa-mir-1246, hsa-mir-1247, hsa-mir-1248, hsa-mir-1249, hsa-mir-1250, hsa-mir-1251, hsa-mir-1252, hsa-mir-1253, hsa-mir-1254-1, hsa-mir-1254-2, hsa-mir-1255a, hsa-mir-1255b-1, hsa-mir-1255b-2, hsa-mir-1256, hsa-mir-1257, hsa-mir-1258, hsa-mir-125a, hsa-mir-125b-1, hsa-mir-125b-2, hsa-mir-126, hsa-mir-1260a, hsa-mir-1260b, hsa-mir-1261, hsa-mir-1262, hsa-mir-1263, ...]\n",
       "Index: []\n",
       "\n",
       "[0 rows x 1893 columns]"
      ]
     },
     "execution_count": 158,
     "metadata": {},
     "output_type": "execute_result"
    }
   ],
   "source": [
    "#nan = tmirna[['tssC','TissueSourceSite']].drop_duplicates()\n",
    "tmirna[tmirna['TissueSourceSite'].isnull()]"
   ]
  },
  {
   "cell_type": "code",
   "execution_count": 159,
   "metadata": {},
   "outputs": [
    {
     "data": {
      "text/html": [
       "<div>\n",
       "<style scoped>\n",
       "    .dataframe tbody tr th:only-of-type {\n",
       "        vertical-align: middle;\n",
       "    }\n",
       "\n",
       "    .dataframe tbody tr th {\n",
       "        vertical-align: top;\n",
       "    }\n",
       "\n",
       "    .dataframe thead th {\n",
       "        text-align: right;\n",
       "    }\n",
       "</style>\n",
       "<table border=\"1\" class=\"dataframe\">\n",
       "  <thead>\n",
       "    <tr style=\"text-align: right;\">\n",
       "      <th></th>\n",
       "      <th>Unnamed: 0</th>\n",
       "      <th>index</th>\n",
       "      <th>hsa-let-7a-1</th>\n",
       "      <th>hsa-let-7a-2</th>\n",
       "      <th>hsa-let-7a-3</th>\n",
       "      <th>hsa-let-7b</th>\n",
       "      <th>hsa-let-7c</th>\n",
       "      <th>hsa-let-7d</th>\n",
       "      <th>hsa-let-7e</th>\n",
       "      <th>hsa-let-7f-1</th>\n",
       "      <th>...</th>\n",
       "      <th>study</th>\n",
       "      <th>tssC</th>\n",
       "      <th>participant</th>\n",
       "      <th>portion_analyte</th>\n",
       "      <th>plate</th>\n",
       "      <th>center</th>\n",
       "      <th>sampleC</th>\n",
       "      <th>vial</th>\n",
       "      <th>TissueSourceSite</th>\n",
       "      <th>samples</th>\n",
       "    </tr>\n",
       "  </thead>\n",
       "  <tbody>\n",
       "  </tbody>\n",
       "</table>\n",
       "<p>0 rows × 1893 columns</p>\n",
       "</div>"
      ],
      "text/plain": [
       "Empty DataFrame\n",
       "Columns: [Unnamed: 0, index, hsa-let-7a-1, hsa-let-7a-2, hsa-let-7a-3, hsa-let-7b, hsa-let-7c, hsa-let-7d, hsa-let-7e, hsa-let-7f-1, hsa-let-7f-2, hsa-let-7g, hsa-let-7i, hsa-mir-1-1, hsa-mir-1-2, hsa-mir-100, hsa-mir-101-1, hsa-mir-101-2, hsa-mir-103a-1, hsa-mir-103a-2, hsa-mir-103b-1, hsa-mir-103b-2, hsa-mir-105-1, hsa-mir-105-2, hsa-mir-106a, hsa-mir-106b, hsa-mir-107, hsa-mir-10a, hsa-mir-10b, hsa-mir-1178, hsa-mir-1179, hsa-mir-1180, hsa-mir-1181, hsa-mir-1182, hsa-mir-1183, hsa-mir-1184-1, hsa-mir-1184-2, hsa-mir-1184-3, hsa-mir-1185-1, hsa-mir-1185-2, hsa-mir-1193, hsa-mir-1197, hsa-mir-1199, hsa-mir-1200, hsa-mir-1202, hsa-mir-1203, hsa-mir-1204, hsa-mir-1205, hsa-mir-1206, hsa-mir-1207, hsa-mir-1208, hsa-mir-122, hsa-mir-1224, hsa-mir-1225, hsa-mir-1226, hsa-mir-1227, hsa-mir-1228, hsa-mir-1229, hsa-mir-1231, hsa-mir-1233-1, hsa-mir-1233-2, hsa-mir-1234, hsa-mir-1236, hsa-mir-1237, hsa-mir-1238, hsa-mir-124-1, hsa-mir-124-2, hsa-mir-124-3, hsa-mir-1243, hsa-mir-1244-1, hsa-mir-1244-2, hsa-mir-1244-3, hsa-mir-1244-4, hsa-mir-1245a, hsa-mir-1245b, hsa-mir-1246, hsa-mir-1247, hsa-mir-1248, hsa-mir-1249, hsa-mir-1250, hsa-mir-1251, hsa-mir-1252, hsa-mir-1253, hsa-mir-1254-1, hsa-mir-1254-2, hsa-mir-1255a, hsa-mir-1255b-1, hsa-mir-1255b-2, hsa-mir-1256, hsa-mir-1257, hsa-mir-1258, hsa-mir-125a, hsa-mir-125b-1, hsa-mir-125b-2, hsa-mir-126, hsa-mir-1260a, hsa-mir-1260b, hsa-mir-1261, hsa-mir-1262, hsa-mir-1263, ...]\n",
       "Index: []\n",
       "\n",
       "[0 rows x 1893 columns]"
      ]
     },
     "execution_count": 159,
     "metadata": {},
     "output_type": "execute_result"
    }
   ],
   "source": [
    "tmirna[tmirna['samples'].isnull()]"
   ]
  },
  {
   "cell_type": "code",
   "execution_count": 160,
   "metadata": {},
   "outputs": [
    {
     "data": {
      "text/html": [
       "<div>\n",
       "<style scoped>\n",
       "    .dataframe tbody tr th:only-of-type {\n",
       "        vertical-align: middle;\n",
       "    }\n",
       "\n",
       "    .dataframe tbody tr th {\n",
       "        vertical-align: top;\n",
       "    }\n",
       "\n",
       "    .dataframe thead th {\n",
       "        text-align: right;\n",
       "    }\n",
       "</style>\n",
       "<table border=\"1\" class=\"dataframe\">\n",
       "  <thead>\n",
       "    <tr style=\"text-align: right;\">\n",
       "      <th></th>\n",
       "      <th>0</th>\n",
       "    </tr>\n",
       "  </thead>\n",
       "  <tbody>\n",
       "    <tr>\n",
       "      <th>0</th>\n",
       "      <td>Acute Myeloid Leukemia</td>\n",
       "    </tr>\n",
       "    <tr>\n",
       "      <th>1</th>\n",
       "      <td>Mesothelioma</td>\n",
       "    </tr>\n",
       "    <tr>\n",
       "      <th>2</th>\n",
       "      <td>Breast invasive carcinoma</td>\n",
       "    </tr>\n",
       "    <tr>\n",
       "      <th>3</th>\n",
       "      <td>Thyroid carcinoma</td>\n",
       "    </tr>\n",
       "    <tr>\n",
       "      <th>4</th>\n",
       "      <td>Uveal Melanoma</td>\n",
       "    </tr>\n",
       "    <tr>\n",
       "      <th>5</th>\n",
       "      <td>Uterine Corpus Endometrial Carcinoma</td>\n",
       "    </tr>\n",
       "    <tr>\n",
       "      <th>6</th>\n",
       "      <td>Lymphoid Neoplasm Diffuse Large B-cell Lymphoma</td>\n",
       "    </tr>\n",
       "    <tr>\n",
       "      <th>7</th>\n",
       "      <td>Testicular Germ Cell Tumors</td>\n",
       "    </tr>\n",
       "    <tr>\n",
       "      <th>8</th>\n",
       "      <td>Thymoma</td>\n",
       "    </tr>\n",
       "    <tr>\n",
       "      <th>9</th>\n",
       "      <td>Cervical squamous cell carcinoma and endocervi...</td>\n",
       "    </tr>\n",
       "    <tr>\n",
       "      <th>10</th>\n",
       "      <td>Kidney renal papillary cell carcinoma</td>\n",
       "    </tr>\n",
       "    <tr>\n",
       "      <th>11</th>\n",
       "      <td>Prostate adenocarcinoma</td>\n",
       "    </tr>\n",
       "    <tr>\n",
       "      <th>12</th>\n",
       "      <td>Skin Cutaneous Melanoma</td>\n",
       "    </tr>\n",
       "    <tr>\n",
       "      <th>13</th>\n",
       "      <td>Colon adenocarcinoma</td>\n",
       "    </tr>\n",
       "    <tr>\n",
       "      <th>14</th>\n",
       "      <td>Liver hepatocellular carcinoma</td>\n",
       "    </tr>\n",
       "    <tr>\n",
       "      <th>15</th>\n",
       "      <td>Rectum adenocarcinoma</td>\n",
       "    </tr>\n",
       "    <tr>\n",
       "      <th>16</th>\n",
       "      <td>Lung squamous cell carcinoma</td>\n",
       "    </tr>\n",
       "    <tr>\n",
       "      <th>17</th>\n",
       "      <td>Brain Lower Grade Glioma</td>\n",
       "    </tr>\n",
       "    <tr>\n",
       "      <th>18</th>\n",
       "      <td>Bladder Urothelial Carcinoma</td>\n",
       "    </tr>\n",
       "    <tr>\n",
       "      <th>19</th>\n",
       "      <td>Kidney renal clear cell carcinoma</td>\n",
       "    </tr>\n",
       "    <tr>\n",
       "      <th>20</th>\n",
       "      <td>Stomach adenocarcinoma</td>\n",
       "    </tr>\n",
       "    <tr>\n",
       "      <th>21</th>\n",
       "      <td>Pancreatic adenocarcinoma</td>\n",
       "    </tr>\n",
       "    <tr>\n",
       "      <th>22</th>\n",
       "      <td>Sarcoma</td>\n",
       "    </tr>\n",
       "    <tr>\n",
       "      <th>23</th>\n",
       "      <td>Ovarian serous cystadenocarcinoma</td>\n",
       "    </tr>\n",
       "    <tr>\n",
       "      <th>24</th>\n",
       "      <td>Cholangiocarcinoma</td>\n",
       "    </tr>\n",
       "    <tr>\n",
       "      <th>25</th>\n",
       "      <td>Esophageal carcinoma</td>\n",
       "    </tr>\n",
       "    <tr>\n",
       "      <th>26</th>\n",
       "      <td>Head and Neck squamous cell carcinoma</td>\n",
       "    </tr>\n",
       "    <tr>\n",
       "      <th>27</th>\n",
       "      <td>Lung adenocarcinoma</td>\n",
       "    </tr>\n",
       "    <tr>\n",
       "      <th>28</th>\n",
       "      <td>Glioblastoma multiforme</td>\n",
       "    </tr>\n",
       "    <tr>\n",
       "      <th>29</th>\n",
       "      <td>Pheochromocytoma and Paraganglioma</td>\n",
       "    </tr>\n",
       "    <tr>\n",
       "      <th>30</th>\n",
       "      <td>Uterine Carcinosarcoma</td>\n",
       "    </tr>\n",
       "    <tr>\n",
       "      <th>31</th>\n",
       "      <td>Adrenocortical carcinoma</td>\n",
       "    </tr>\n",
       "    <tr>\n",
       "      <th>32</th>\n",
       "      <td>Kidney Chromophobe</td>\n",
       "    </tr>\n",
       "  </tbody>\n",
       "</table>\n",
       "</div>"
      ],
      "text/plain": [
       "                                                    0\n",
       "0                              Acute Myeloid Leukemia\n",
       "1                                        Mesothelioma\n",
       "2                           Breast invasive carcinoma\n",
       "3                                   Thyroid carcinoma\n",
       "4                                      Uveal Melanoma\n",
       "5                Uterine Corpus Endometrial Carcinoma\n",
       "6     Lymphoid Neoplasm Diffuse Large B-cell Lymphoma\n",
       "7                         Testicular Germ Cell Tumors\n",
       "8                                             Thymoma\n",
       "9   Cervical squamous cell carcinoma and endocervi...\n",
       "10              Kidney renal papillary cell carcinoma\n",
       "11                            Prostate adenocarcinoma\n",
       "12                            Skin Cutaneous Melanoma\n",
       "13                               Colon adenocarcinoma\n",
       "14                     Liver hepatocellular carcinoma\n",
       "15                              Rectum adenocarcinoma\n",
       "16                       Lung squamous cell carcinoma\n",
       "17                           Brain Lower Grade Glioma\n",
       "18                       Bladder Urothelial Carcinoma\n",
       "19                  Kidney renal clear cell carcinoma\n",
       "20                             Stomach adenocarcinoma\n",
       "21                          Pancreatic adenocarcinoma\n",
       "22                                            Sarcoma\n",
       "23                  Ovarian serous cystadenocarcinoma\n",
       "24                                 Cholangiocarcinoma\n",
       "25                               Esophageal carcinoma\n",
       "26              Head and Neck squamous cell carcinoma\n",
       "27                                Lung adenocarcinoma\n",
       "28                            Glioblastoma multiforme\n",
       "29                 Pheochromocytoma and Paraganglioma\n",
       "30                             Uterine Carcinosarcoma\n",
       "31                           Adrenocortical carcinoma\n",
       "32                                 Kidney Chromophobe"
      ]
     },
     "execution_count": 160,
     "metadata": {},
     "output_type": "execute_result"
    }
   ],
   "source": [
    "pd.DataFrame(data=tmirna.TissueSourceSite.unique())"
   ]
  },
  {
   "cell_type": "code",
   "execution_count": 161,
   "metadata": {},
   "outputs": [
    {
     "data": {
      "text/html": [
       "<div>\n",
       "<style scoped>\n",
       "    .dataframe tbody tr th:only-of-type {\n",
       "        vertical-align: middle;\n",
       "    }\n",
       "\n",
       "    .dataframe tbody tr th {\n",
       "        vertical-align: top;\n",
       "    }\n",
       "\n",
       "    .dataframe thead th {\n",
       "        text-align: right;\n",
       "    }\n",
       "</style>\n",
       "<table border=\"1\" class=\"dataframe\">\n",
       "  <thead>\n",
       "    <tr style=\"text-align: right;\">\n",
       "      <th></th>\n",
       "      <th>TissueSourceSite</th>\n",
       "    </tr>\n",
       "    <tr>\n",
       "      <th>TissueSourceSite</th>\n",
       "      <th></th>\n",
       "    </tr>\n",
       "  </thead>\n",
       "  <tbody>\n",
       "    <tr>\n",
       "      <th>Glioblastoma multiforme</th>\n",
       "      <td>5</td>\n",
       "    </tr>\n",
       "    <tr>\n",
       "      <th>Cholangiocarcinoma</th>\n",
       "      <td>45</td>\n",
       "    </tr>\n",
       "    <tr>\n",
       "      <th>Lymphoid Neoplasm Diffuse Large B-cell Lymphoma</th>\n",
       "      <td>47</td>\n",
       "    </tr>\n",
       "    <tr>\n",
       "      <th>Uterine Carcinosarcoma</th>\n",
       "      <td>57</td>\n",
       "    </tr>\n",
       "    <tr>\n",
       "      <th>Uveal Melanoma</th>\n",
       "      <td>80</td>\n",
       "    </tr>\n",
       "    <tr>\n",
       "      <th>Adrenocortical carcinoma</th>\n",
       "      <td>80</td>\n",
       "    </tr>\n",
       "    <tr>\n",
       "      <th>Mesothelioma</th>\n",
       "      <td>87</td>\n",
       "    </tr>\n",
       "    <tr>\n",
       "      <th>Kidney Chromophobe</th>\n",
       "      <td>91</td>\n",
       "    </tr>\n",
       "    <tr>\n",
       "      <th>Thymoma</th>\n",
       "      <td>126</td>\n",
       "    </tr>\n",
       "    <tr>\n",
       "      <th>Testicular Germ Cell Tumors</th>\n",
       "      <td>156</td>\n",
       "    </tr>\n",
       "    <tr>\n",
       "      <th>Rectum adenocarcinoma</th>\n",
       "      <td>165</td>\n",
       "    </tr>\n",
       "    <tr>\n",
       "      <th>Pancreatic adenocarcinoma</th>\n",
       "      <td>183</td>\n",
       "    </tr>\n",
       "    <tr>\n",
       "      <th>Pheochromocytoma and Paraganglioma</th>\n",
       "      <td>187</td>\n",
       "    </tr>\n",
       "    <tr>\n",
       "      <th>Acute Myeloid Leukemia</th>\n",
       "      <td>188</td>\n",
       "    </tr>\n",
       "    <tr>\n",
       "      <th>Esophageal carcinoma</th>\n",
       "      <td>200</td>\n",
       "    </tr>\n",
       "    <tr>\n",
       "      <th>Sarcoma</th>\n",
       "      <td>263</td>\n",
       "    </tr>\n",
       "    <tr>\n",
       "      <th>Cervical squamous cell carcinoma and endocervical adenocarcinoma</th>\n",
       "      <td>312</td>\n",
       "    </tr>\n",
       "    <tr>\n",
       "      <th>Kidney renal papillary cell carcinoma</th>\n",
       "      <td>326</td>\n",
       "    </tr>\n",
       "    <tr>\n",
       "      <th>Liver hepatocellular carcinoma</th>\n",
       "      <td>425</td>\n",
       "    </tr>\n",
       "    <tr>\n",
       "      <th>Bladder Urothelial Carcinoma</th>\n",
       "      <td>437</td>\n",
       "    </tr>\n",
       "    <tr>\n",
       "      <th>Skin Cutaneous Melanoma</th>\n",
       "      <td>447</td>\n",
       "    </tr>\n",
       "    <tr>\n",
       "      <th>Colon adenocarcinoma</th>\n",
       "      <td>465</td>\n",
       "    </tr>\n",
       "    <tr>\n",
       "      <th>Stomach adenocarcinoma</th>\n",
       "      <td>491</td>\n",
       "    </tr>\n",
       "    <tr>\n",
       "      <th>Ovarian serous cystadenocarcinoma</th>\n",
       "      <td>499</td>\n",
       "    </tr>\n",
       "    <tr>\n",
       "      <th>Lung squamous cell carcinoma</th>\n",
       "      <td>523</td>\n",
       "    </tr>\n",
       "    <tr>\n",
       "      <th>Brain Lower Grade Glioma</th>\n",
       "      <td>530</td>\n",
       "    </tr>\n",
       "    <tr>\n",
       "      <th>Prostate adenocarcinoma</th>\n",
       "      <td>551</td>\n",
       "    </tr>\n",
       "    <tr>\n",
       "      <th>Lung adenocarcinoma</th>\n",
       "      <td>567</td>\n",
       "    </tr>\n",
       "    <tr>\n",
       "      <th>Head and Neck squamous cell carcinoma</th>\n",
       "      <td>569</td>\n",
       "    </tr>\n",
       "    <tr>\n",
       "      <th>Thyroid carcinoma</th>\n",
       "      <td>573</td>\n",
       "    </tr>\n",
       "    <tr>\n",
       "      <th>Uterine Corpus Endometrial Carcinoma</th>\n",
       "      <td>579</td>\n",
       "    </tr>\n",
       "    <tr>\n",
       "      <th>Kidney renal clear cell carcinoma</th>\n",
       "      <td>616</td>\n",
       "    </tr>\n",
       "    <tr>\n",
       "      <th>Breast invasive carcinoma</th>\n",
       "      <td>1206</td>\n",
       "    </tr>\n",
       "  </tbody>\n",
       "</table>\n",
       "</div>"
      ],
      "text/plain": [
       "                                                    TissueSourceSite\n",
       "TissueSourceSite                                                    \n",
       "Glioblastoma multiforme                                            5\n",
       "Cholangiocarcinoma                                                45\n",
       "Lymphoid Neoplasm Diffuse Large B-cell Lymphoma                   47\n",
       "Uterine Carcinosarcoma                                            57\n",
       "Uveal Melanoma                                                    80\n",
       "Adrenocortical carcinoma                                          80\n",
       "Mesothelioma                                                      87\n",
       "Kidney Chromophobe                                                91\n",
       "Thymoma                                                          126\n",
       "Testicular Germ Cell Tumors                                      156\n",
       "Rectum adenocarcinoma                                            165\n",
       "Pancreatic adenocarcinoma                                        183\n",
       "Pheochromocytoma and Paraganglioma                               187\n",
       "Acute Myeloid Leukemia                                           188\n",
       "Esophageal carcinoma                                             200\n",
       "Sarcoma                                                          263\n",
       "Cervical squamous cell carcinoma and endocervic...               312\n",
       "Kidney renal papillary cell carcinoma                            326\n",
       "Liver hepatocellular carcinoma                                   425\n",
       "Bladder Urothelial Carcinoma                                     437\n",
       "Skin Cutaneous Melanoma                                          447\n",
       "Colon adenocarcinoma                                             465\n",
       "Stomach adenocarcinoma                                           491\n",
       "Ovarian serous cystadenocarcinoma                                499\n",
       "Lung squamous cell carcinoma                                     523\n",
       "Brain Lower Grade Glioma                                         530\n",
       "Prostate adenocarcinoma                                          551\n",
       "Lung adenocarcinoma                                              567\n",
       "Head and Neck squamous cell carcinoma                            569\n",
       "Thyroid carcinoma                                                573\n",
       "Uterine Corpus Endometrial Carcinoma                             579\n",
       "Kidney renal clear cell carcinoma                                616\n",
       "Breast invasive carcinoma                                       1206"
      ]
     },
     "execution_count": 161,
     "metadata": {},
     "output_type": "execute_result"
    }
   ],
   "source": [
    "df = pd.DataFrame(tmirna.groupby('TissueSourceSite')['TissueSourceSite'].count())\n",
    "df.sort_values(by = 'TissueSourceSite')\n"
   ]
  },
  {
   "cell_type": "code",
   "execution_count": 162,
   "metadata": {},
   "outputs": [
    {
     "data": {
      "text/plain": [
       "TissueSourceSite    11076\n",
       "dtype: int64"
      ]
     },
     "execution_count": 162,
     "metadata": {},
     "output_type": "execute_result"
    }
   ],
   "source": [
    "df.sum()"
   ]
  },
  {
   "cell_type": "code",
   "execution_count": 168,
   "metadata": {},
   "outputs": [
    {
     "data": {
      "text/plain": [
       "(1206, 1893)"
      ]
     },
     "execution_count": 168,
     "metadata": {},
     "output_type": "execute_result"
    }
   ],
   "source": [
    "tmirna_breast = tmirna.loc[tmirna['TissueSourceSite']==\"Breast invasive carcinoma\"]\n",
    "list(tmirna_breast.TissueSourceSite.unique())"
   ]
  },
  {
   "cell_type": "code",
   "execution_count": 169,
   "metadata": {
    "scrolled": true
   },
   "outputs": [
    {
     "data": {
      "text/plain": [
       "(1206, 1893)"
      ]
     },
     "execution_count": 169,
     "metadata": {},
     "output_type": "execute_result"
    }
   ],
   "source": [
    "tmirna_breast.shape"
   ]
  },
  {
   "cell_type": "code",
   "execution_count": 170,
   "metadata": {},
   "outputs": [
    {
     "data": {
      "text/plain": [
       "(11076, 1893)"
      ]
     },
     "execution_count": 170,
     "metadata": {},
     "output_type": "execute_result"
    }
   ],
   "source": [
    "tmirna.shape"
   ]
  },
  {
   "cell_type": "code",
   "execution_count": 176,
   "metadata": {},
   "outputs": [
    {
     "data": {
      "text/plain": [
       "0"
      ]
     },
     "execution_count": 176,
     "metadata": {},
     "output_type": "execute_result"
    }
   ],
   "source": [
    "def num_missing(x):\n",
    "    return sum(x.isnull())\n",
    "\n",
    "tmirna_breast.apply(num_missing, axis = 0).sum()"
   ]
  },
  {
   "cell_type": "code",
   "execution_count": 174,
   "metadata": {},
   "outputs": [],
   "source": [
    "tmirna_breast.to_csv(\"C:/Users/garim/Documents/Capstone/Full data/TCGA extracted/Breast Cancer/TmiRNA_breast.csv\")"
   ]
  }
 ],
 "metadata": {
  "kernelspec": {
   "display_name": "Python 3",
   "language": "python",
   "name": "python3"
  },
  "language_info": {
   "codemirror_mode": {
    "name": "ipython",
    "version": 3
   },
   "file_extension": ".py",
   "mimetype": "text/x-python",
   "name": "python",
   "nbconvert_exporter": "python",
   "pygments_lexer": "ipython3",
   "version": "3.6.4"
  }
 },
 "nbformat": 4,
 "nbformat_minor": 2
}
