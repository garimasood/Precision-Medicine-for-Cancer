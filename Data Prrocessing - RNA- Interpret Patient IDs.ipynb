{
 "cells": [
  {
   "cell_type": "code",
   "execution_count": 2,
   "metadata": {},
   "outputs": [],
   "source": [
    "import pandas as pd\n",
    "\n",
    "datapath =\"C:/Users/garim/Documents/Capstone/Full data/Normalized/rna_norm_counts.csv\"\n",
    "rna = pd.read_csv(datapath)\n"
   ]
  },
  {
   "cell_type": "code",
   "execution_count": 4,
   "metadata": {},
   "outputs": [],
   "source": [
    "tss_map = pd.read_excel(\"C:/Users/garim/Documents/Capstone/Full data/tss_map.xlsx\",sheet_name='tss_map',header=0,converters={'tssC':str,'TissueSourceSite':str}, na_values=[],keep_default_na  = False)\n",
    "sample_map = pd.read_excel(\"C:/Users/garim/Documents/Capstone/Full data/sample_map.xlsx\",sheet_name='sample_map',header=0,converters={'sampleC':str,'sample':str}, na_values=[], keep_default_na  = False)"
   ]
  },
  {
   "cell_type": "code",
   "execution_count": null,
   "metadata": {},
   "outputs": [],
   "source": [
    "trna = rna.transpose()\n",
    "header = trna.iloc[0]\n",
    "trna = trna[1:]\n",
    "trna.columns = header"
   ]
  },
  {
   "cell_type": "markdown",
   "metadata": {},
   "source": [
    "Let's look at a chunk of the miRNA data which is otherwise huge:"
   ]
  },
  {
   "cell_type": "code",
   "execution_count": null,
   "metadata": {},
   "outputs": [],
   "source": [
    "trna.shape"
   ]
  },
  {
   "cell_type": "markdown",
   "metadata": {},
   "source": [
    "Extracting study name to split the data by study"
   ]
  },
  {
   "cell_type": "code",
   "execution_count": null,
   "metadata": {},
   "outputs": [],
   "source": [
    "trna['study'] = trna.index.str.split('.').str[0]"
   ]
  },
  {
   "cell_type": "code",
   "execution_count": null,
   "metadata": {},
   "outputs": [],
   "source": [
    "trna.iloc[60:70,]"
   ]
  },
  {
   "cell_type": "code",
   "execution_count": null,
   "metadata": {},
   "outputs": [],
   "source": [
    "trna['study'].value_counts()"
   ]
  },
  {
   "cell_type": "code",
   "execution_count": null,
   "metadata": {},
   "outputs": [],
   "source": [
    "trna_target = trna[trna['study']==\"TARGET\"]\n",
    "trna_target.shape"
   ]
  },
  {
   "cell_type": "code",
   "execution_count": null,
   "metadata": {},
   "outputs": [],
   "source": [
    "trna_tcga = trna[trna['study']==\"TCGA\"]\n",
    "trna_tcga.shape"
   ]
  },
  {
   "cell_type": "code",
   "execution_count": null,
   "metadata": {},
   "outputs": [],
   "source": [
    "max(trna_tcga.index.str.len()) == min(trna_tcga.index.str.len())"
   ]
  },
  {
   "cell_type": "markdown",
   "metadata": {},
   "source": [
    "Splitting Patient ID into components to obtain Dosease and sample information"
   ]
  },
  {
   "cell_type": "code",
   "execution_count": null,
   "metadata": {},
   "outputs": [],
   "source": [
    "trna_tcga[['study_1C','tssC','participant','sample_vialC','portion_analyte','plate','center']] = pd.DataFrame(trna_tcga.index.str.split('.').values.tolist(), index= tmirna_tcga.index)\n",
    "trna_tcga.iloc[0:5,:]"
   ]
  },
  {
   "cell_type": "code",
   "execution_count": null,
   "metadata": {},
   "outputs": [],
   "source": [
    "trna_tcga['sampleC'] =  trna_tcga['sample_vialC'].str.slice(0,2)\n",
    "trna_tcga['vial']= trna_tcga['sample_vialC'].str.slice(2,3)\n",
    "trna_tcga['portion'] =  trna_tcga['portion_analyte'].str.slice(0,2)\n",
    "trna_tcga['analyte']= trna_tcga['portion_analyte'].str.slice(2,3)\n",
    "\n",
    "trna_tcga.iloc[0:5,:]"
   ]
  },
  {
   "cell_type": "markdown",
   "metadata": {},
   "source": [
    "Pulling the meaning of TSS and Sample codes under 'tss' and 'sample' columns respectively"
   ]
  },
  {
   "cell_type": "code",
   "execution_count": null,
   "metadata": {},
   "outputs": [],
   "source": [
    "trna_tcga = pd.merge(trna_tcga, tss_map, how = 'left', on = 'tssC')\n",
    "trna_tcga = pd.merge(trna_tcga, sample_map, how = 'left', on = 'sampleC')\n",
    "trna_tcga=trna_tcga.drop(['study_1C'], axis = 1)"
   ]
  },
  {
   "cell_type": "code",
   "execution_count": null,
   "metadata": {},
   "outputs": [],
   "source": [
    "rna_count_summary = trna_tcga.groupby(['TissueSourceSite','sample','portion','sampleC'])['index'].count()\n",
    "rna_count_summary.to_csv(\"C:/Users/garim/Documents/Capstone/Full data/Normalized/rna_count_summary.csv\")"
   ]
  },
  {
   "cell_type": "markdown",
   "metadata": {},
   "source": [
    "Exporting the modified TCGA miRNA dataframe to TmiRNA_TCGA csv file"
   ]
  },
  {
   "cell_type": "code",
   "execution_count": null,
   "metadata": {},
   "outputs": [],
   "source": [
    "trna_tcga.to_csv(\"C:/Users/garim/Documents/GitHub/Precision-Medicine-for-Cancer/Full data/TRNA_TCGA.csv\")"
   ]
  }
 ],
 "metadata": {
  "kernelspec": {
   "display_name": "Python 3",
   "language": "python",
   "name": "python3"
  },
  "language_info": {
   "codemirror_mode": {
    "name": "ipython",
    "version": 3
   },
   "file_extension": ".py",
   "mimetype": "text/x-python",
   "name": "python",
   "nbconvert_exporter": "python",
   "pygments_lexer": "ipython3",
   "version": "3.6.4"
  }
 },
 "nbformat": 4,
 "nbformat_minor": 2
}
